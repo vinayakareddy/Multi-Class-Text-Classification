{
  "nbformat": 4,
  "nbformat_minor": 0,
  "metadata": {
    "colab": {
      "name": "Education comments analysis.ipynb",
      "provenance": [],
      "collapsed_sections": [],
      "authorship_tag": "ABX9TyPQIDW1PiLo0XqZXSVF+JPv",
      "include_colab_link": true
    },
    "kernelspec": {
      "name": "python3",
      "display_name": "Python 3"
    }
  },
  "cells": [
    {
      "cell_type": "markdown",
      "metadata": {
        "id": "view-in-github",
        "colab_type": "text"
      },
      "source": [
        "<a href=\"https://colab.research.google.com/github/vinayakareddy/Multi-Class-Text-Classification/blob/master/Education_comments_analysis.ipynb\" target=\"_parent\"><img src=\"https://colab.research.google.com/assets/colab-badge.svg\" alt=\"Open In Colab\"/></a>"
      ]
    },
    {
      "cell_type": "code",
      "metadata": {
        "id": "efNep5gYQnD-",
        "colab_type": "code",
        "colab": {
          "base_uri": "https://localhost:8080/",
          "height": 122
        },
        "outputId": "430ccb47-65fa-475e-d0b7-2f4e46026fa6"
      },
      "source": [
        "from google.colab import drive\n",
        "drive.mount('/content/drive')"
      ],
      "execution_count": 2,
      "outputs": [
        {
          "output_type": "stream",
          "text": [
            "Go to this URL in a browser: https://accounts.google.com/o/oauth2/auth?client_id=947318989803-6bn6qk8qdgf4n4g3pfee6491hc0brc4i.apps.googleusercontent.com&redirect_uri=urn%3aietf%3awg%3aoauth%3a2.0%3aoob&response_type=code&scope=email%20https%3a%2f%2fwww.googleapis.com%2fauth%2fdocs.test%20https%3a%2f%2fwww.googleapis.com%2fauth%2fdrive%20https%3a%2f%2fwww.googleapis.com%2fauth%2fdrive.photos.readonly%20https%3a%2f%2fwww.googleapis.com%2fauth%2fpeopleapi.readonly\n",
            "\n",
            "Enter your authorization code:\n",
            "··········\n",
            "Mounted at /content/drive\n"
          ],
          "name": "stdout"
        }
      ]
    },
    {
      "cell_type": "code",
      "metadata": {
        "id": "iN0UCYiyQsJk",
        "colab_type": "code",
        "colab": {}
      },
      "source": [
        "path = \"/content/drive/My Drive/Colab Notebooks/Political dataset/\""
      ],
      "execution_count": 0,
      "outputs": []
    },
    {
      "cell_type": "code",
      "metadata": {
        "id": "uWdhyrjeQsWl",
        "colab_type": "code",
        "colab": {
          "base_uri": "https://localhost:8080/",
          "height": 88
        },
        "outputId": "1fd848cd-db78-495f-9397-13fa3e062d69"
      },
      "source": [
        "import keras \n",
        "import numpy as np\n",
        "from keras.preprocessing.text import Tokenizer\n",
        "import numpy as np\n",
        "import pandas as pd\n",
        "from keras.models import Sequential\n",
        "from keras.layers import Dense\n",
        "from keras.preprocessing.sequence import pad_sequences\n",
        "from keras.layers import Input, Dense, Dropout, Embedding, LSTM, Flatten\n",
        "from keras.models import Model\n",
        "from keras.utils import to_categorical\n",
        "from keras.callbacks import ModelCheckpoint\n",
        "import seaborn as sns\n",
        "import matplotlib.pyplot as plt\n",
        "from sklearn.model_selection import train_test_split\n",
        "from sklearn.metrics import accuracy_score\n",
        "plt.style.use('ggplot')\n",
        "%matplotlib inline\n",
        "from IPython.core.display import display, HTML\n",
        "display(HTML(\"<style>.container { width:100% !important; }</style>\"))"
      ],
      "execution_count": 7,
      "outputs": [
        {
          "output_type": "stream",
          "text": [
            "Using TensorFlow backend.\n",
            "/usr/local/lib/python3.6/dist-packages/statsmodels/tools/_testing.py:19: FutureWarning: pandas.util.testing is deprecated. Use the functions in the public API at pandas.testing instead.\n",
            "  import pandas.util.testing as tm\n"
          ],
          "name": "stderr"
        },
        {
          "output_type": "display_data",
          "data": {
            "text/html": [
              "<style>.container { width:100% !important; }</style>"
            ],
            "text/plain": [
              "<IPython.core.display.HTML object>"
            ]
          },
          "metadata": {
            "tags": []
          }
        }
      ]
    },
    {
      "cell_type": "code",
      "metadata": {
        "id": "9piKgH6WQsb3",
        "colab_type": "code",
        "colab": {
          "base_uri": "https://localhost:8080/",
          "height": 204
        },
        "outputId": "4109892c-7d4f-42ad-ed4a-2a6d0c9266e8"
      },
      "source": [
        "data = pd.read_csv(path+\"education_sentimental analysis.csv\", encoding=\"ISO-8859-1\")\n",
        "\n",
        "data.head()"
      ],
      "execution_count": 8,
      "outputs": [
        {
          "output_type": "execute_result",
          "data": {
            "text/html": [
              "<div>\n",
              "<style scoped>\n",
              "    .dataframe tbody tr th:only-of-type {\n",
              "        vertical-align: middle;\n",
              "    }\n",
              "\n",
              "    .dataframe tbody tr th {\n",
              "        vertical-align: top;\n",
              "    }\n",
              "\n",
              "    .dataframe thead th {\n",
              "        text-align: right;\n",
              "    }\n",
              "</style>\n",
              "<table border=\"1\" class=\"dataframe\">\n",
              "  <thead>\n",
              "    <tr style=\"text-align: right;\">\n",
              "      <th></th>\n",
              "      <th>Video URL</th>\n",
              "      <th>Nickname</th>\n",
              "      <th>Comments</th>\n",
              "      <th>Classification</th>\n",
              "    </tr>\n",
              "  </thead>\n",
              "  <tbody>\n",
              "    <tr>\n",
              "      <th>0</th>\n",
              "      <td>https://www.youtube.com/watch?v=YvLIPPgkJN8</td>\n",
              "      <td>NANHKURAM SHARMA</td>\n",
              "      <td>Sir bahot badhiya</td>\n",
              "      <td>Praising</td>\n",
              "    </tr>\n",
              "    <tr>\n",
              "      <th>1</th>\n",
              "      <td>https://www.youtube.com/watch?v=YvLIPPgkJN8</td>\n",
              "      <td>Chvshprasad</td>\n",
              "      <td>thank you very much sir this class is very hel...</td>\n",
              "      <td>Praising</td>\n",
              "    </tr>\n",
              "    <tr>\n",
              "      <th>2</th>\n",
              "      <td>https://www.youtube.com/watch?v=YvLIPPgkJN8</td>\n",
              "      <td>Adarsh Kumar</td>\n",
              "      <td>75</td>\n",
              "      <td>Answers</td>\n",
              "    </tr>\n",
              "    <tr>\n",
              "      <th>3</th>\n",
              "      <td>https://www.youtube.com/watch?v=YvLIPPgkJN8</td>\n",
              "      <td>Adarsh Kumar</td>\n",
              "      <td>Sahil sir u are A genius</td>\n",
              "      <td>Praising</td>\n",
              "    </tr>\n",
              "    <tr>\n",
              "      <th>4</th>\n",
              "      <td>https://www.youtube.com/watch?v=YvLIPPgkJN8</td>\n",
              "      <td>jyoti kumari</td>\n",
              "      <td>sir RRB Ka kb se state kigyegaa</td>\n",
              "      <td>Neutral</td>\n",
              "    </tr>\n",
              "  </tbody>\n",
              "</table>\n",
              "</div>"
            ],
            "text/plain": [
              "                                     Video URL  ... Classification\n",
              "0  https://www.youtube.com/watch?v=YvLIPPgkJN8  ...       Praising\n",
              "1  https://www.youtube.com/watch?v=YvLIPPgkJN8  ...       Praising\n",
              "2  https://www.youtube.com/watch?v=YvLIPPgkJN8  ...        Answers\n",
              "3  https://www.youtube.com/watch?v=YvLIPPgkJN8  ...       Praising\n",
              "4  https://www.youtube.com/watch?v=YvLIPPgkJN8  ...        Neutral\n",
              "\n",
              "[5 rows x 4 columns]"
            ]
          },
          "metadata": {
            "tags": []
          },
          "execution_count": 8
        }
      ]
    },
    {
      "cell_type": "code",
      "metadata": {
        "id": "FZ-JtSrDQsim",
        "colab_type": "code",
        "colab": {
          "base_uri": "https://localhost:8080/",
          "height": 419
        },
        "outputId": "0f2cbd04-76d9-47d1-ca49-28ed1a1075a4"
      },
      "source": [
        "data.drop(['Video URL','Nickname'], axis=1)"
      ],
      "execution_count": 9,
      "outputs": [
        {
          "output_type": "execute_result",
          "data": {
            "text/html": [
              "<div>\n",
              "<style scoped>\n",
              "    .dataframe tbody tr th:only-of-type {\n",
              "        vertical-align: middle;\n",
              "    }\n",
              "\n",
              "    .dataframe tbody tr th {\n",
              "        vertical-align: top;\n",
              "    }\n",
              "\n",
              "    .dataframe thead th {\n",
              "        text-align: right;\n",
              "    }\n",
              "</style>\n",
              "<table border=\"1\" class=\"dataframe\">\n",
              "  <thead>\n",
              "    <tr style=\"text-align: right;\">\n",
              "      <th></th>\n",
              "      <th>Comments</th>\n",
              "      <th>Classification</th>\n",
              "    </tr>\n",
              "  </thead>\n",
              "  <tbody>\n",
              "    <tr>\n",
              "      <th>0</th>\n",
              "      <td>Sir bahot badhiya</td>\n",
              "      <td>Praising</td>\n",
              "    </tr>\n",
              "    <tr>\n",
              "      <th>1</th>\n",
              "      <td>thank you very much sir this class is very hel...</td>\n",
              "      <td>Praising</td>\n",
              "    </tr>\n",
              "    <tr>\n",
              "      <th>2</th>\n",
              "      <td>75</td>\n",
              "      <td>Answers</td>\n",
              "    </tr>\n",
              "    <tr>\n",
              "      <th>3</th>\n",
              "      <td>Sahil sir u are A genius</td>\n",
              "      <td>Praising</td>\n",
              "    </tr>\n",
              "    <tr>\n",
              "      <th>4</th>\n",
              "      <td>sir RRB Ka kb se state kigyegaa</td>\n",
              "      <td>Neutral</td>\n",
              "    </tr>\n",
              "    <tr>\n",
              "      <th>...</th>\n",
              "      <td>...</td>\n",
              "      <td>...</td>\n",
              "    </tr>\n",
              "    <tr>\n",
              "      <th>9523</th>\n",
              "      <td>sir maths ki class kab lagti h</td>\n",
              "      <td>Query</td>\n",
              "    </tr>\n",
              "    <tr>\n",
              "      <th>9524</th>\n",
              "      <td>sir reasoning ki calls kab lagti h</td>\n",
              "      <td>Query</td>\n",
              "    </tr>\n",
              "    <tr>\n",
              "      <th>9525</th>\n",
              "      <td>Sir alzebra k kitne parts bnaye h</td>\n",
              "      <td>Query</td>\n",
              "    </tr>\n",
              "    <tr>\n",
              "      <th>9526</th>\n",
              "      <td>Sir aap mathe kitne time padhate hai</td>\n",
              "      <td>Query</td>\n",
              "    </tr>\n",
              "    <tr>\n",
              "      <th>9527</th>\n",
              "      <td>Sir rpf ki class kb chaalh hogi</td>\n",
              "      <td>Query</td>\n",
              "    </tr>\n",
              "  </tbody>\n",
              "</table>\n",
              "<p>9528 rows × 2 columns</p>\n",
              "</div>"
            ],
            "text/plain": [
              "                                               Comments Classification\n",
              "0                                     Sir bahot badhiya       Praising\n",
              "1     thank you very much sir this class is very hel...       Praising\n",
              "2                                                    75        Answers\n",
              "3                              Sahil sir u are A genius       Praising\n",
              "4                       sir RRB Ka kb se state kigyegaa        Neutral\n",
              "...                                                 ...            ...\n",
              "9523                     sir maths ki class kab lagti h          Query\n",
              "9524                 sir reasoning ki calls kab lagti h          Query\n",
              "9525                  Sir alzebra k kitne parts bnaye h          Query\n",
              "9526               Sir aap mathe kitne time padhate hai          Query\n",
              "9527                    Sir rpf ki class kb chaalh hogi          Query\n",
              "\n",
              "[9528 rows x 2 columns]"
            ]
          },
          "metadata": {
            "tags": []
          },
          "execution_count": 9
        }
      ]
    },
    {
      "cell_type": "code",
      "metadata": {
        "id": "9l-M1DDuQsvo",
        "colab_type": "code",
        "colab": {
          "base_uri": "https://localhost:8080/",
          "height": 102
        },
        "outputId": "7884c39c-4dcd-4977-baa5-18c8d4f85f18"
      },
      "source": [
        "data.Classification.value_counts()"
      ],
      "execution_count": 10,
      "outputs": [
        {
          "output_type": "execute_result",
          "data": {
            "text/plain": [
              "Praising    2382\n",
              "Answers     2382\n",
              "Query       2382\n",
              "Neutral     2382\n",
              "Name: Classification, dtype: int64"
            ]
          },
          "metadata": {
            "tags": []
          },
          "execution_count": 10
        }
      ]
    },
    {
      "cell_type": "code",
      "metadata": {
        "id": "RPSnX32NQs7K",
        "colab_type": "code",
        "colab": {}
      },
      "source": [
        "#Convert tags to integers as most of the machine learning¶\n",
        "data['target'] = data.Classification.astype('category').cat.codes\n"
      ],
      "execution_count": 0,
      "outputs": []
    },
    {
      "cell_type": "code",
      "metadata": {
        "id": "-zDootgVQs5j",
        "colab_type": "code",
        "colab": {}
      },
      "source": [
        "#Calculate the number of words in each posts¶\n",
        "data['num_words'] = data.Comments.apply(lambda x : len(x.split()))"
      ],
      "execution_count": 0,
      "outputs": []
    },
    {
      "cell_type": "code",
      "metadata": {
        "id": "PiOVuhjbQs3N",
        "colab_type": "code",
        "colab": {
          "base_uri": "https://localhost:8080/",
          "height": 204
        },
        "outputId": "dc1ca3f6-6037-4fb3-b17d-5eab65487c27"
      },
      "source": [
        "data.head()"
      ],
      "execution_count": 13,
      "outputs": [
        {
          "output_type": "execute_result",
          "data": {
            "text/html": [
              "<div>\n",
              "<style scoped>\n",
              "    .dataframe tbody tr th:only-of-type {\n",
              "        vertical-align: middle;\n",
              "    }\n",
              "\n",
              "    .dataframe tbody tr th {\n",
              "        vertical-align: top;\n",
              "    }\n",
              "\n",
              "    .dataframe thead th {\n",
              "        text-align: right;\n",
              "    }\n",
              "</style>\n",
              "<table border=\"1\" class=\"dataframe\">\n",
              "  <thead>\n",
              "    <tr style=\"text-align: right;\">\n",
              "      <th></th>\n",
              "      <th>Video URL</th>\n",
              "      <th>Nickname</th>\n",
              "      <th>Comments</th>\n",
              "      <th>Classification</th>\n",
              "      <th>target</th>\n",
              "      <th>num_words</th>\n",
              "    </tr>\n",
              "  </thead>\n",
              "  <tbody>\n",
              "    <tr>\n",
              "      <th>0</th>\n",
              "      <td>https://www.youtube.com/watch?v=YvLIPPgkJN8</td>\n",
              "      <td>NANHKURAM SHARMA</td>\n",
              "      <td>Sir bahot badhiya</td>\n",
              "      <td>Praising</td>\n",
              "      <td>2</td>\n",
              "      <td>3</td>\n",
              "    </tr>\n",
              "    <tr>\n",
              "      <th>1</th>\n",
              "      <td>https://www.youtube.com/watch?v=YvLIPPgkJN8</td>\n",
              "      <td>Chvshprasad</td>\n",
              "      <td>thank you very much sir this class is very hel...</td>\n",
              "      <td>Praising</td>\n",
              "      <td>2</td>\n",
              "      <td>12</td>\n",
              "    </tr>\n",
              "    <tr>\n",
              "      <th>2</th>\n",
              "      <td>https://www.youtube.com/watch?v=YvLIPPgkJN8</td>\n",
              "      <td>Adarsh Kumar</td>\n",
              "      <td>75</td>\n",
              "      <td>Answers</td>\n",
              "      <td>0</td>\n",
              "      <td>1</td>\n",
              "    </tr>\n",
              "    <tr>\n",
              "      <th>3</th>\n",
              "      <td>https://www.youtube.com/watch?v=YvLIPPgkJN8</td>\n",
              "      <td>Adarsh Kumar</td>\n",
              "      <td>Sahil sir u are A genius</td>\n",
              "      <td>Praising</td>\n",
              "      <td>2</td>\n",
              "      <td>6</td>\n",
              "    </tr>\n",
              "    <tr>\n",
              "      <th>4</th>\n",
              "      <td>https://www.youtube.com/watch?v=YvLIPPgkJN8</td>\n",
              "      <td>jyoti kumari</td>\n",
              "      <td>sir RRB Ka kb se state kigyegaa</td>\n",
              "      <td>Neutral</td>\n",
              "      <td>1</td>\n",
              "      <td>7</td>\n",
              "    </tr>\n",
              "  </tbody>\n",
              "</table>\n",
              "</div>"
            ],
            "text/plain": [
              "                                     Video URL  ... num_words\n",
              "0  https://www.youtube.com/watch?v=YvLIPPgkJN8  ...         3\n",
              "1  https://www.youtube.com/watch?v=YvLIPPgkJN8  ...        12\n",
              "2  https://www.youtube.com/watch?v=YvLIPPgkJN8  ...         1\n",
              "3  https://www.youtube.com/watch?v=YvLIPPgkJN8  ...         6\n",
              "4  https://www.youtube.com/watch?v=YvLIPPgkJN8  ...         7\n",
              "\n",
              "[5 rows x 6 columns]"
            ]
          },
          "metadata": {
            "tags": []
          },
          "execution_count": 13
        }
      ]
    },
    {
      "cell_type": "code",
      "metadata": {
        "id": "pWGbq9unQsy4",
        "colab_type": "code",
        "colab": {
          "base_uri": "https://localhost:8080/",
          "height": 419
        },
        "outputId": "2519136e-836d-427f-8b74-93c4f1031b0d"
      },
      "source": [
        "data.drop(['Video URL','Nickname'], axis=1)"
      ],
      "execution_count": 14,
      "outputs": [
        {
          "output_type": "execute_result",
          "data": {
            "text/html": [
              "<div>\n",
              "<style scoped>\n",
              "    .dataframe tbody tr th:only-of-type {\n",
              "        vertical-align: middle;\n",
              "    }\n",
              "\n",
              "    .dataframe tbody tr th {\n",
              "        vertical-align: top;\n",
              "    }\n",
              "\n",
              "    .dataframe thead th {\n",
              "        text-align: right;\n",
              "    }\n",
              "</style>\n",
              "<table border=\"1\" class=\"dataframe\">\n",
              "  <thead>\n",
              "    <tr style=\"text-align: right;\">\n",
              "      <th></th>\n",
              "      <th>Comments</th>\n",
              "      <th>Classification</th>\n",
              "      <th>target</th>\n",
              "      <th>num_words</th>\n",
              "    </tr>\n",
              "  </thead>\n",
              "  <tbody>\n",
              "    <tr>\n",
              "      <th>0</th>\n",
              "      <td>Sir bahot badhiya</td>\n",
              "      <td>Praising</td>\n",
              "      <td>2</td>\n",
              "      <td>3</td>\n",
              "    </tr>\n",
              "    <tr>\n",
              "      <th>1</th>\n",
              "      <td>thank you very much sir this class is very hel...</td>\n",
              "      <td>Praising</td>\n",
              "      <td>2</td>\n",
              "      <td>12</td>\n",
              "    </tr>\n",
              "    <tr>\n",
              "      <th>2</th>\n",
              "      <td>75</td>\n",
              "      <td>Answers</td>\n",
              "      <td>0</td>\n",
              "      <td>1</td>\n",
              "    </tr>\n",
              "    <tr>\n",
              "      <th>3</th>\n",
              "      <td>Sahil sir u are A genius</td>\n",
              "      <td>Praising</td>\n",
              "      <td>2</td>\n",
              "      <td>6</td>\n",
              "    </tr>\n",
              "    <tr>\n",
              "      <th>4</th>\n",
              "      <td>sir RRB Ka kb se state kigyegaa</td>\n",
              "      <td>Neutral</td>\n",
              "      <td>1</td>\n",
              "      <td>7</td>\n",
              "    </tr>\n",
              "    <tr>\n",
              "      <th>...</th>\n",
              "      <td>...</td>\n",
              "      <td>...</td>\n",
              "      <td>...</td>\n",
              "      <td>...</td>\n",
              "    </tr>\n",
              "    <tr>\n",
              "      <th>9523</th>\n",
              "      <td>sir maths ki class kab lagti h</td>\n",
              "      <td>Query</td>\n",
              "      <td>3</td>\n",
              "      <td>7</td>\n",
              "    </tr>\n",
              "    <tr>\n",
              "      <th>9524</th>\n",
              "      <td>sir reasoning ki calls kab lagti h</td>\n",
              "      <td>Query</td>\n",
              "      <td>3</td>\n",
              "      <td>7</td>\n",
              "    </tr>\n",
              "    <tr>\n",
              "      <th>9525</th>\n",
              "      <td>Sir alzebra k kitne parts bnaye h</td>\n",
              "      <td>Query</td>\n",
              "      <td>3</td>\n",
              "      <td>7</td>\n",
              "    </tr>\n",
              "    <tr>\n",
              "      <th>9526</th>\n",
              "      <td>Sir aap mathe kitne time padhate hai</td>\n",
              "      <td>Query</td>\n",
              "      <td>3</td>\n",
              "      <td>7</td>\n",
              "    </tr>\n",
              "    <tr>\n",
              "      <th>9527</th>\n",
              "      <td>Sir rpf ki class kb chaalh hogi</td>\n",
              "      <td>Query</td>\n",
              "      <td>3</td>\n",
              "      <td>7</td>\n",
              "    </tr>\n",
              "  </tbody>\n",
              "</table>\n",
              "<p>9528 rows × 4 columns</p>\n",
              "</div>"
            ],
            "text/plain": [
              "                                               Comments  ... num_words\n",
              "0                                     Sir bahot badhiya  ...         3\n",
              "1     thank you very much sir this class is very hel...  ...        12\n",
              "2                                                    75  ...         1\n",
              "3                              Sahil sir u are A genius  ...         6\n",
              "4                       sir RRB Ka kb se state kigyegaa  ...         7\n",
              "...                                                 ...  ...       ...\n",
              "9523                     sir maths ki class kab lagti h  ...         7\n",
              "9524                 sir reasoning ki calls kab lagti h  ...         7\n",
              "9525                  Sir alzebra k kitne parts bnaye h  ...         7\n",
              "9526               Sir aap mathe kitne time padhate hai  ...         7\n",
              "9527                    Sir rpf ki class kb chaalh hogi  ...         7\n",
              "\n",
              "[9528 rows x 4 columns]"
            ]
          },
          "metadata": {
            "tags": []
          },
          "execution_count": 14
        }
      ]
    },
    {
      "cell_type": "code",
      "metadata": {
        "id": "8BVW8xA6Qssz",
        "colab_type": "code",
        "colab": {}
      },
      "source": [
        "#Set number of classes and target variable¶\n",
        "num_class = len(np.unique(data.Classification.values))\n",
        "y = data['target'].values"
      ],
      "execution_count": 0,
      "outputs": []
    },
    {
      "cell_type": "code",
      "metadata": {
        "id": "UQ8cgvwmQsrQ",
        "colab_type": "code",
        "colab": {}
      },
      "source": [
        "#Tokenize the input¶\n",
        "MAX_LENGTH = 500\n",
        "tokenizer = Tokenizer()\n",
        "tokenizer.fit_on_texts(data.Comments.values)\n",
        "post_seq = tokenizer.texts_to_sequences(data.Comments.values)\n",
        "post_seq_padded = pad_sequences(post_seq, maxlen=MAX_LENGTH)"
      ],
      "execution_count": 0,
      "outputs": []
    },
    {
      "cell_type": "code",
      "metadata": {
        "id": "87jjvgCcQsmp",
        "colab_type": "code",
        "colab": {}
      },
      "source": [
        "X_train, X_test, y_train, y_test = train_test_split(post_seq_padded, y, test_size=0.05)"
      ],
      "execution_count": 0,
      "outputs": []
    },
    {
      "cell_type": "code",
      "metadata": {
        "id": "jx-VeKNWQsgC",
        "colab_type": "code",
        "colab": {}
      },
      "source": [
        "vocab_size = len(tokenizer.word_index) + 1"
      ],
      "execution_count": 0,
      "outputs": []
    },
    {
      "cell_type": "markdown",
      "metadata": {
        "id": "aKP33_6NTAda",
        "colab_type": "text"
      },
      "source": [
        "Deep Learning Model : Simple¶\n"
      ]
    },
    {
      "cell_type": "code",
      "metadata": {
        "id": "WGnfNURiS8sN",
        "colab_type": "code",
        "colab": {
          "base_uri": "https://localhost:8080/",
          "height": 734
        },
        "outputId": "a7cfb5d5-1379-4fda-a09f-df571f83352e"
      },
      "source": [
        "inputs = Input(shape=(MAX_LENGTH, ))\n",
        "embedding_layer = Embedding(vocab_size,\n",
        "                            128,\n",
        "                            input_length=MAX_LENGTH)(inputs)\n",
        "x = Flatten()(embedding_layer)\n",
        "x = Dense(32, activation='relu')(x)\n",
        "\n",
        "predictions = Dense(num_class, activation='softmax')(x)\n",
        "model = Model(inputs=[inputs], outputs=predictions)\n",
        "model.compile(optimizer='adam',\n",
        "              loss='categorical_crossentropy',\n",
        "              metrics=['acc'])\n",
        "\n",
        "model.summary()\n",
        "filepath=\"weights-simple.hdf5\"\n",
        "checkpointer = ModelCheckpoint(filepath, monitor='val_acc', verbose=1, save_best_only=True, mode='max')\n",
        "history = model.fit([X_train], batch_size=64, y=to_categorical(y_train), verbose=1, validation_split=0.25, \n",
        "          shuffle=True, epochs=5, callbacks=[checkpointer])"
      ],
      "execution_count": 22,
      "outputs": [
        {
          "output_type": "stream",
          "text": [
            "Model: \"model_1\"\n",
            "_________________________________________________________________\n",
            "Layer (type)                 Output Shape              Param #   \n",
            "=================================================================\n",
            "input_1 (InputLayer)         (None, 500)               0         \n",
            "_________________________________________________________________\n",
            "embedding_1 (Embedding)      (None, 500, 128)          552320    \n",
            "_________________________________________________________________\n",
            "flatten_1 (Flatten)          (None, 64000)             0         \n",
            "_________________________________________________________________\n",
            "dense_1 (Dense)              (None, 32)                2048032   \n",
            "_________________________________________________________________\n",
            "dense_2 (Dense)              (None, 4)                 132       \n",
            "=================================================================\n",
            "Total params: 2,600,484\n",
            "Trainable params: 2,600,484\n",
            "Non-trainable params: 0\n",
            "_________________________________________________________________\n"
          ],
          "name": "stdout"
        },
        {
          "output_type": "stream",
          "text": [
            "/usr/local/lib/python3.6/dist-packages/tensorflow/python/framework/indexed_slices.py:434: UserWarning: Converting sparse IndexedSlices to a dense Tensor of unknown shape. This may consume a large amount of memory.\n",
            "  \"Converting sparse IndexedSlices to a dense Tensor of unknown shape. \"\n"
          ],
          "name": "stderr"
        },
        {
          "output_type": "stream",
          "text": [
            "Train on 6788 samples, validate on 2263 samples\n",
            "Epoch 1/5\n",
            "6788/6788 [==============================] - 7s 965us/step - loss: 1.1149 - acc: 0.5028 - val_loss: 0.7275 - val_acc: 0.7247\n",
            "\n",
            "Epoch 00001: val_acc improved from -inf to 0.72470, saving model to weights-simple.hdf5\n",
            "Epoch 2/5\n",
            "6788/6788 [==============================] - 6s 896us/step - loss: 0.5296 - acc: 0.8051 - val_loss: 0.4328 - val_acc: 0.8237\n",
            "\n",
            "Epoch 00002: val_acc improved from 0.72470 to 0.82369, saving model to weights-simple.hdf5\n",
            "Epoch 3/5\n",
            "6788/6788 [==============================] - 6s 918us/step - loss: 0.3166 - acc: 0.8954 - val_loss: 0.3683 - val_acc: 0.8475\n",
            "\n",
            "Epoch 00003: val_acc improved from 0.82369 to 0.84755, saving model to weights-simple.hdf5\n",
            "Epoch 4/5\n",
            "6788/6788 [==============================] - 6s 924us/step - loss: 0.2358 - acc: 0.9210 - val_loss: 0.3530 - val_acc: 0.8484\n",
            "\n",
            "Epoch 00004: val_acc improved from 0.84755 to 0.84843, saving model to weights-simple.hdf5\n",
            "Epoch 5/5\n",
            "6788/6788 [==============================] - 6s 922us/step - loss: 0.1864 - acc: 0.9346 - val_loss: 0.3202 - val_acc: 0.8723\n",
            "\n",
            "Epoch 00005: val_acc improved from 0.84843 to 0.87229, saving model to weights-simple.hdf5\n"
          ],
          "name": "stdout"
        }
      ]
    },
    {
      "cell_type": "code",
      "metadata": {
        "id": "8tpcBVBCTPl7",
        "colab_type": "code",
        "colab": {
          "base_uri": "https://localhost:8080/",
          "height": 282
        },
        "outputId": "5dbe6f72-b120-4648-c8f6-4e5afcb5a9f2"
      },
      "source": [
        "#Understanding the model fit¶\n",
        "df = pd.DataFrame({'epochs':history.epoch, 'accuracy': history.history['acc'], 'validation_accuracy': history.history['val_acc']})\n",
        "g = sns.pointplot(x=\"epochs\", y=\"accuracy\", data=df, fit_reg=False)\n",
        "g = sns.pointplot(x=\"epochs\", y=\"validation_accuracy\", data=df, fit_reg=False, color='green')"
      ],
      "execution_count": 23,
      "outputs": [
        {
          "output_type": "display_data",
          "data": {
            "image/png": "[encoded data removed]",
            "text/plain": [
              "<Figure size 432x288 with 1 Axes>"
            ]
          },
          "metadata": {
            "tags": [],
            "needs_background": "light"
          }
        }
      ]
    },
    {
      "cell_type": "code",
      "metadata": {
        "id": "AVIMJGuhTh5z",
        "colab_type": "code",
        "colab": {
          "base_uri": "https://localhost:8080/",
          "height": 34
        },
        "outputId": "a08ca739-78b3-4659-faa1-45851f6d485f"
      },
      "source": [
        "#accuracy\n",
        "predicted = model.predict(X_test)\n",
        "predicted = np.argmax(predicted, axis=1)\n",
        "accuracy_score(y_test, predicted)"
      ],
      "execution_count": 24,
      "outputs": [
        {
          "output_type": "execute_result",
          "data": {
            "text/plain": [
              "0.8553459119496856"
            ]
          },
          "metadata": {
            "tags": []
          },
          "execution_count": 24
        }
      ]
    },
    {
      "cell_type": "markdown",
      "metadata": {
        "id": "OWCZp_j7TrOI",
        "colab_type": "text"
      },
      "source": [
        "Recurrent Neural Networks¶\n"
      ]
    },
    {
      "cell_type": "code",
      "metadata": {
        "id": "AvzhgMvFTn8O",
        "colab_type": "code",
        "colab": {
          "base_uri": "https://localhost:8080/",
          "height": 323
        },
        "outputId": "2e2bcd82-86c6-4574-d08c-8e6313aa5a1d"
      },
      "source": [
        "inputs = Input(shape=(MAX_LENGTH, ))\n",
        "embedding_layer = Embedding(vocab_size,\n",
        "                            128,\n",
        "                            input_length=MAX_LENGTH)(inputs)\n",
        "\n",
        "x = LSTM(64)(embedding_layer)\n",
        "x = Dense(32, activation='relu')(x)\n",
        "predictions = Dense(num_class, activation='softmax')(x)\n",
        "model = Model(inputs=[inputs], outputs=predictions)\n",
        "model.compile(optimizer='adam',\n",
        "              loss='categorical_crossentropy',\n",
        "              metrics=['acc'])\n",
        "\n",
        "model.summary()"
      ],
      "execution_count": 25,
      "outputs": [
        {
          "output_type": "stream",
          "text": [
            "Model: \"model_2\"\n",
            "_________________________________________________________________\n",
            "Layer (type)                 Output Shape              Param #   \n",
            "=================================================================\n",
            "input_2 (InputLayer)         (None, 500)               0         \n",
            "_________________________________________________________________\n",
            "embedding_2 (Embedding)      (None, 500, 128)          552320    \n",
            "_________________________________________________________________\n",
            "lstm_1 (LSTM)                (None, 64)                49408     \n",
            "_________________________________________________________________\n",
            "dense_3 (Dense)              (None, 32)                2080      \n",
            "_________________________________________________________________\n",
            "dense_4 (Dense)              (None, 4)                 132       \n",
            "=================================================================\n",
            "Total params: 603,940\n",
            "Trainable params: 603,940\n",
            "Non-trainable params: 0\n",
            "_________________________________________________________________\n"
          ],
          "name": "stdout"
        }
      ]
    },
    {
      "cell_type": "code",
      "metadata": {
        "id": "QbfLREdQTwAg",
        "colab_type": "code",
        "colab": {
          "base_uri": "https://localhost:8080/",
          "height": 768
        },
        "outputId": "d2e1a1ca-0a70-4c54-91d8-b13d1444cde5"
      },
      "source": [
        "filepath=\"weights.hdf5\"\n",
        "checkpointer = ModelCheckpoint(filepath, monitor='val_acc', verbose=1, save_best_only=True, mode='max')\n",
        "history = model.fit([X_train], batch_size=64, y=to_categorical(y_train), verbose=1, validation_split=0.25, \n",
        "          shuffle=True, epochs=10, callbacks=[checkpointer])"
      ],
      "execution_count": 26,
      "outputs": [
        {
          "output_type": "stream",
          "text": [
            "/usr/local/lib/python3.6/dist-packages/tensorflow/python/framework/indexed_slices.py:434: UserWarning: Converting sparse IndexedSlices to a dense Tensor of unknown shape. This may consume a large amount of memory.\n",
            "  \"Converting sparse IndexedSlices to a dense Tensor of unknown shape. \"\n"
          ],
          "name": "stderr"
        },
        {
          "output_type": "stream",
          "text": [
            "Train on 6788 samples, validate on 2263 samples\n",
            "Epoch 1/10\n",
            "6788/6788 [==============================] - 59s 9ms/step - loss: 0.9109 - acc: 0.6148 - val_loss: 0.5085 - val_acc: 0.8038\n",
            "\n",
            "Epoch 00001: val_acc improved from -inf to 0.80380, saving model to weights.hdf5\n",
            "Epoch 2/10\n",
            "6788/6788 [==============================] - 60s 9ms/step - loss: 0.3920 - acc: 0.8461 - val_loss: 0.3624 - val_acc: 0.8511\n",
            "\n",
            "Epoch 00002: val_acc improved from 0.80380 to 0.85108, saving model to weights.hdf5\n",
            "Epoch 3/10\n",
            "6788/6788 [==============================] - 59s 9ms/step - loss: 0.2550 - acc: 0.9041 - val_loss: 0.3237 - val_acc: 0.8657\n",
            "\n",
            "Epoch 00003: val_acc improved from 0.85108 to 0.86567, saving model to weights.hdf5\n",
            "Epoch 4/10\n",
            "6788/6788 [==============================] - 57s 8ms/step - loss: 0.1992 - acc: 0.9247 - val_loss: 0.3398 - val_acc: 0.8723\n",
            "\n",
            "Epoch 00004: val_acc improved from 0.86567 to 0.87229, saving model to weights.hdf5\n",
            "Epoch 5/10\n",
            "6788/6788 [==============================] - 57s 8ms/step - loss: 0.1601 - acc: 0.9396 - val_loss: 0.3559 - val_acc: 0.8714\n",
            "\n",
            "Epoch 00005: val_acc did not improve from 0.87229\n",
            "Epoch 6/10\n",
            "6788/6788 [==============================] - 56s 8ms/step - loss: 0.1417 - acc: 0.9424 - val_loss: 0.3773 - val_acc: 0.8736\n",
            "\n",
            "Epoch 00006: val_acc improved from 0.87229 to 0.87362, saving model to weights.hdf5\n",
            "Epoch 7/10\n",
            "6788/6788 [==============================] - 54s 8ms/step - loss: 0.1298 - acc: 0.9496 - val_loss: 0.3801 - val_acc: 0.8683\n",
            "\n",
            "Epoch 00007: val_acc did not improve from 0.87362\n",
            "Epoch 8/10\n",
            "6788/6788 [==============================] - 53s 8ms/step - loss: 0.1241 - acc: 0.9470 - val_loss: 0.3785 - val_acc: 0.8763\n",
            "\n",
            "Epoch 00008: val_acc improved from 0.87362 to 0.87627, saving model to weights.hdf5\n",
            "Epoch 9/10\n",
            "6788/6788 [==============================] - 52s 8ms/step - loss: 0.1126 - acc: 0.9539 - val_loss: 0.4430 - val_acc: 0.8705\n",
            "\n",
            "Epoch 00009: val_acc did not improve from 0.87627\n",
            "Epoch 10/10\n",
            "6788/6788 [==============================] - 52s 8ms/step - loss: 0.1122 - acc: 0.9546 - val_loss: 0.4464 - val_acc: 0.8665\n",
            "\n",
            "Epoch 00010: val_acc did not improve from 0.87627\n"
          ],
          "name": "stdout"
        }
      ]
    },
    {
      "cell_type": "code",
      "metadata": {
        "id": "u0wTOckFT2rl",
        "colab_type": "code",
        "colab": {
          "base_uri": "https://localhost:8080/",
          "height": 282
        },
        "outputId": "6d1985e9-a80c-4764-fb9b-c0e87dd497b3"
      },
      "source": [
        "df = pd.DataFrame({'epochs':history.epoch, 'accuracy': history.history['acc'], 'validation_accuracy': history.history['val_acc']})\n",
        "g = sns.pointplot(x=\"epochs\", y=\"accuracy\", data=df, fit_reg=False)\n",
        "g = sns.pointplot(x=\"epochs\", y=\"validation_accuracy\", data=df, fit_reg=False, color='green')"
      ],
      "execution_count": 27,
      "outputs": [
        {
          "output_type": "display_data",
          "data": {
            "image/png": "[encoded data removed]",
            "text/plain": [
              "<Figure size 432x288 with 1 Axes>"
            ]
          },
          "metadata": {
            "tags": [],
            "needs_background": "light"
          }
        }
      ]
    },
    {
      "cell_type": "code",
      "metadata": {
        "id": "V4uWJpx3XGDa",
        "colab_type": "code",
        "colab": {
          "base_uri": "https://localhost:8080/",
          "height": 153
        },
        "outputId": "97d9c231-6089-4193-cc6f-956b1de06036"
      },
      "source": [
        "model.load_weights('weights.hdf5')\n",
        "predicted = model.predict(X_test)\n",
        "predicted"
      ],
      "execution_count": 29,
      "outputs": [
        {
          "output_type": "execute_result",
          "data": {
            "text/plain": [
              "array([[2.32399837e-03, 8.96077394e-01, 1.01227105e-01, 3.71547620e-04],\n",
              "       [6.89565029e-04, 5.59685886e-01, 4.39289093e-01, 3.35501623e-04],\n",
              "       [5.28862357e-01, 4.44080532e-01, 2.01486442e-02, 6.90841209e-03],\n",
              "       ...,\n",
              "       [4.21803134e-06, 6.28674024e-05, 1.20375006e-07, 9.99932766e-01],\n",
              "       [1.17698098e-02, 9.32679832e-01, 5.51147684e-02, 4.35612572e-04],\n",
              "       [1.17092847e-03, 5.11729419e-01, 4.87024695e-01, 7.49249521e-05]],\n",
              "      dtype=float32)"
            ]
          },
          "metadata": {
            "tags": []
          },
          "execution_count": 29
        }
      ]
    },
    {
      "cell_type": "code",
      "metadata": {
        "id": "nZnAfho3XJ18",
        "colab_type": "code",
        "colab": {}
      },
      "source": [
        "#Understanding Softmax¶\n",
        "predicted = np.argmax(predicted, axis=1)"
      ],
      "execution_count": 0,
      "outputs": []
    },
    {
      "cell_type": "code",
      "metadata": {
        "id": "xe7EpMbVXRcG",
        "colab_type": "code",
        "colab": {
          "base_uri": "https://localhost:8080/",
          "height": 34
        },
        "outputId": "dc214dff-7501-4326-fd71-4d02d26839be"
      },
      "source": [
        "#Lets look at the accuracy¶\n",
        "accuracy_score(y_test, predicted)"
      ],
      "execution_count": 31,
      "outputs": [
        {
          "output_type": "execute_result",
          "data": {
            "text/plain": [
              "0.8805031446540881"
            ]
          },
          "metadata": {
            "tags": []
          },
          "execution_count": 31
        }
      ]
    },
    {
      "cell_type": "code",
      "metadata": {
        "id": "j8-KCF63XUvn",
        "colab_type": "code",
        "colab": {}
      },
      "source": [
        "#We were able to achieve an accuracy score of 88.05% which is pretty good and a huge jump over our simple model.\n",
        "\n"
      ],
      "execution_count": 0,
      "outputs": []
    }
  ]
}